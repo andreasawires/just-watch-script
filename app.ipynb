{
 "cells": [
  {
   "cell_type": "code",
   "execution_count": null,
   "metadata": {},
   "outputs": [],
   "source": [
    "from justwatch import JustWatch"
   ]
  },
  {
   "cell_type": "code",
   "execution_count": null,
   "metadata": {},
   "outputs": [],
   "source": [
    "###TROVA GLI IDs DEI PROVIDERS STREAMING\n",
    "just_watch = JustWatch(country=\"US\")\n",
    "results = just_watch.get_providers()\n",
    "for provider in results:\n",
    "    print(f\"ID: {provider['id']}, NOME: {provider['technical_name']}, SHORT NAME: {provider['short_name']}\")\n"
   ]
  },
  {
   "cell_type": "code",
   "execution_count": null,
   "metadata": {},
   "outputs": [],
   "source": [
    "##TEST ESPLOSIONE\n",
    "just_watch = JustWatch(country=\"US\")\n",
    "for x in range(100_000):\n",
    "    results_by_providers = just_watch.search_for_item(query=\"Avatar\")\n",
    "    print(x)"
   ]
  },
  {
   "cell_type": "code",
   "execution_count": null,
   "metadata": {},
   "outputs": [],
   "source": [
    "###CREAZIONE DATASET DI TEST\n",
    "import pandas as pd\n",
    "test_data = {\"Titolo Film\":[\"After We Fell\", \"Dark Blood\", \"The Hunting\", \"The Desperate Hour\", \"Titanic 666\"], \"TMBD_ID\":[744275, 845885, 870671, 764835, 945657]}\n",
    "df = pd.DataFrame(test_data)\n",
    "print(df)\n",
    "\n"
   ]
  },
  {
   "cell_type": "code",
   "execution_count": 41,
   "metadata": {},
   "outputs": [
    {
     "name": "stdout",
     "output_type": "stream",
     "text": [
      "353138\n"
     ]
    }
   ],
   "source": [
    "tmb_id = df[\"TMBD_ID\"][4] ##CAMBIA: tmdb id del film\n",
    "lista_providers = [\"nfx\", \"amz\"] ##CAMBIA: providers da cercare\n",
    "titolo_film = df[\"Titolo Film\"][4] ##CAMBIA: titolo testuale del film\n",
    "\n",
    "results_by_providers = just_watch.search_for_item(query=titolo_film, providers=lista_providers) ##Output di tutti i film che assomigliano al titolo\n",
    "tutti_i_film = [film for film in results_by_providers[\"items\"]] ##Array contenente tutti i film trovati, ma divisi uno ad uno\n",
    "\n",
    "###Cerco di vedere se è il film univoco che sto cercando o no\n",
    "for movie in tutti_i_film:\n",
    "    #Se contiene scoring (alcuni film non hanno tali dati)\n",
    "    if \"scoring\" in movie:\n",
    "        risulato_finale = [item for item in movie[\"scoring\"] if item[\"provider_type\"] == \"tmdb:id\"]\n",
    "        if risulato_finale:\n",
    "            id_del_film_trovato = risulato_finale[0][\"value\"]\n",
    "            if id_del_film_trovato == tmb_id:\n",
    "                dati_test.append(film_data)\n",
    "                film_data = movie\n",
    "                break\n",
    "\n",
    "        else:\n",
    "            continue\n",
    "    else:\n",
    "        film_data = \"---NOT FOUND---\"\n",
    "        continue\n",
    "print(movie[\"id\"])"
   ]
  },
  {
   "cell_type": "code",
   "execution_count": null,
   "metadata": {},
   "outputs": [],
   "source": [
    "###IMPORTO MODULO\n",
    "just_watch = JustWatch(country=\"US\")\n",
    "dati_test = []\n",
    "\n",
    "###Per ciascun elemento del dataset di film\n",
    "for x in range(len(df.index)):\n",
    "\n",
    "    tmb_id = df[\"TMBD_ID\"][x] ##CAMBIA: tmdb id del film\n",
    "    lista_providers = [\"nfx\", \"amz\"] ##CAMBIA: providers da cercare\n",
    "    titolo_film = df[\"Titolo Film\"][x] ##CAMBIA: titolo testuale del film\n",
    "\n",
    "    results_by_providers = just_watch.search_for_item(query=titolo_film, providers=lista_providers) ##Output di tutti i film che assomigliano al titolo\n",
    "    tutti_i_film = [film for film in results_by_providers[\"items\"]] ##Array contenente tutti i film trovati, ma divisi uno ad uno\n",
    "\n",
    "    ###Cerco di vedere se è il film univoco che sto cercando o no\n",
    "    for movie in tutti_i_film:\n",
    "        #Se contiene scoring (alcuni film non hanno tali dati)\n",
    "        if \"scoring\" in movie:\n",
    "            risulato_finale = [item for item in movie[\"scoring\"] if item[\"provider_type\"] == \"tmdb:id\"]\n",
    "            if risulato_finale:\n",
    "                id_del_film_trovato = risulato_finale[0][\"value\"]\n",
    "                if id_del_film_trovato == tmb_id:\n",
    "                    dati_test.append(film_data)\n",
    "                    film_data = movie\n",
    "                    break\n",
    "\n",
    "            else:\n",
    "                continue\n",
    "        else:\n",
    "            film_data = \"---NOT FOUND---\"\n",
    "            continue\n",
    "    print(film_data)\n",
    "    print(\"\\n\\n\\n\\n\\n\\n\\n\\n\\n\\n\")"
   ]
  },
  {
   "cell_type": "code",
   "execution_count": null,
   "metadata": {},
   "outputs": [],
   "source": [
    "un_film_diprova = dati_test[1]\n",
    "try:\n",
    "    offerte_film = un_film_diprova[\"offers\"]\n",
    "    offerte_film_interessanti = [x for x in offerte_film if x['provider_id'] in (8, 9, 337, 350, 2, 257)]\n",
    "    providers_already_used = []\n",
    "    offerte_finale = []\n",
    "    for offer in offerte_film_interessanti:\n",
    "        if offer['package_short_name'] not in providers_already_used:\n",
    "            offerte_finale.append(offer)\n",
    "            providers_already_used.append(offer['package_short_name'])\n",
    "except:\n",
    "    offerte_finale = []\n",
    "    pass\n",
    "\n",
    "offerte_finale\n",
    "    \n",
    "        "
   ]
  },
  {
   "cell_type": "code",
   "execution_count": null,
   "metadata": {},
   "outputs": [],
   "source": [
    "NomeFilm = #nomedelfilm\n",
    "TMDB_ID = #iddelfilm\n",
    "listaproviders = #listaproviders\n",
    "found = False\n",
    "\n",
    "Risultato = just_watch.search_for_item(query= NomeFilm, providers=listaproviders) #prendo il primo risultato (che sarebbe il più accurato in base al titolo)\n",
    "for r in Risultato:\n",
    "    if r.id \n",
    "\n",
    "if #tmbdb-id_del_risultato == TMDB_ID AND il film è disponibile gratuitamente dal provider (monetization type=flat rate):\n",
    "    #il film è disponibile da quel provider x\n",
    "    #allega provider al database\n",
    "else:\n",
    "    #il film non è disponibile dal provider x"
   ]
  }
 ],
 "metadata": {
  "kernelspec": {
   "display_name": "Python 3.8.3 64-bit",
   "language": "python",
   "name": "python3"
  },
  "language_info": {
   "codemirror_mode": {
    "name": "ipython",
    "version": 3
   },
   "file_extension": ".py",
   "mimetype": "text/x-python",
   "name": "python",
   "nbconvert_exporter": "python",
   "pygments_lexer": "ipython3",
   "version": "3.8.3 (tags/v3.8.3:6f8c832, May 13 2020, 22:37:02) [MSC v.1924 64 bit (AMD64)]"
  },
  "orig_nbformat": 4,
  "vscode": {
   "interpreter": {
    "hash": "88d0ce2d56ec6f08e06ad0f082d7ded18cf95ad12ce8af759a7285b7ed50f4c7"
   }
  }
 },
 "nbformat": 4,
 "nbformat_minor": 2
}
